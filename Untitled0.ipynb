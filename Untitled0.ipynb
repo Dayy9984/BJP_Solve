{
  "nbformat": 4,
  "nbformat_minor": 0,
  "metadata": {
    "colab": {
      "provenance": [],
      "authorship_tag": "ABX9TyPuU6oLepsc3itb6CigYXOz",
      "include_colab_link": true
    },
    "kernelspec": {
      "name": "python3",
      "display_name": "Python 3"
    },
    "language_info": {
      "name": "python"
    }
  },
  "cells": [
    {
      "cell_type": "markdown",
      "metadata": {
        "id": "view-in-github",
        "colab_type": "text"
      },
      "source": [
        "<a href=\"https://colab.research.google.com/github/Dayy9984/BJP_Solve/blob/main/Untitled0.ipynb\" target=\"_parent\"><img src=\"https://colab.research.google.com/assets/colab-badge.svg\" alt=\"Open In Colab\"/></a>"
      ]
    },
    {
      "cell_type": "code",
      "source": [
        "%%writefile mycalc/calculator.py\n",
        "def add(a,b):\n",
        "  return a+b\n",
        "def substact(a,b):\n",
        "  return a-b\n",
        "def multiply(a,b):\n",
        "  return a*b\n",
        "def divide(a,b):\n",
        "  return a/b"
      ],
      "metadata": {
        "colab": {
          "base_uri": "https://localhost:8080/"
        },
        "id": "EEUAK8YI-dbu",
        "outputId": "4a69448a-08bb-4e69-88c3-0c90f72d89f8"
      },
      "execution_count": 5,
      "outputs": [
        {
          "output_type": "stream",
          "name": "stdout",
          "text": [
            "Writing mycalc/calculator.py\n"
          ]
        }
      ]
    },
    {
      "cell_type": "code",
      "source": [
        "%%writefile setup.py\n",
        "import setuptools\n",
        "\n",
        "setuptools.setup (\n",
        "    include_package_data = True,\n",
        "    name='dayy9984',\n",
        "    version='0.0.1',\n",
        "    description = 'oss-dev my calculator 0001',\n",
        "    author='dayy9984',\n",
        "    url = \"https://github.com/Dayy9984/OSS_Donga\",\n",
        "    download_url = \"https://github.com/Dayy9984/OSS_Donga\",\n",
        "    packages = ['mycalc'],\n",
        "    classifiers = [\n",
        "        \"Programming Language :: Python :: 3\",\n",
        "    ],\n",
        ")"
      ],
      "metadata": {
        "colab": {
          "base_uri": "https://localhost:8080/"
        },
        "id": "HhvoHUKX_WEA",
        "outputId": "f32c396f-f67b-4096-fb47-19087d95c8ef"
      },
      "execution_count": 14,
      "outputs": [
        {
          "output_type": "stream",
          "name": "stdout",
          "text": [
            "Overwriting setup.py\n"
          ]
        }
      ]
    },
    {
      "cell_type": "code",
      "source": [
        "!pip install wheel\n",
        "!pip install twine\n",
        "\n",
        "!python setup.py bdist_wheel\n",
        "!twine upload -u dayy9984 -p 41319984net@ dist/dayy9984-0.0.1-py3-none-any.whl"
      ],
      "metadata": {
        "colab": {
          "base_uri": "https://localhost:8080/"
        },
        "id": "8ECCcSfJBPPV",
        "outputId": "0585ec19-a3e6-4eea-d448-de29be1fbeb9"
      },
      "execution_count": 19,
      "outputs": [
        {
          "output_type": "stream",
          "name": "stdout",
          "text": [
            "Looking in indexes: https://pypi.org/simple, https://us-python.pkg.dev/colab-wheels/public/simple/\n",
            "Requirement already satisfied: wheel in /usr/local/lib/python3.9/dist-packages (0.40.0)\n",
            "Looking in indexes: https://pypi.org/simple, https://us-python.pkg.dev/colab-wheels/public/simple/\n",
            "Requirement already satisfied: twine in /usr/local/lib/python3.9/dist-packages (4.0.2)\n",
            "Requirement already satisfied: pkginfo>=1.8.1 in /usr/local/lib/python3.9/dist-packages (from twine) (1.9.6)\n",
            "Requirement already satisfied: keyring>=15.1 in /usr/local/lib/python3.9/dist-packages (from twine) (23.13.1)\n",
            "Requirement already satisfied: requests>=2.20 in /usr/local/lib/python3.9/dist-packages (from twine) (2.27.1)\n",
            "Requirement already satisfied: rich>=12.0.0 in /usr/local/lib/python3.9/dist-packages (from twine) (13.3.3)\n",
            "Requirement already satisfied: requests-toolbelt!=0.9.0,>=0.8.0 in /usr/local/lib/python3.9/dist-packages (from twine) (0.10.1)\n",
            "Requirement already satisfied: readme-renderer>=35.0 in /usr/local/lib/python3.9/dist-packages (from twine) (37.3)\n",
            "Requirement already satisfied: rfc3986>=1.4.0 in /usr/local/lib/python3.9/dist-packages (from twine) (2.0.0)\n",
            "Requirement already satisfied: importlib-metadata>=3.6 in /usr/local/lib/python3.9/dist-packages (from twine) (6.1.0)\n",
            "Requirement already satisfied: urllib3>=1.26.0 in /usr/local/lib/python3.9/dist-packages (from twine) (1.26.15)\n",
            "Requirement already satisfied: zipp>=0.5 in /usr/local/lib/python3.9/dist-packages (from importlib-metadata>=3.6->twine) (3.15.0)\n",
            "Requirement already satisfied: SecretStorage>=3.2 in /usr/local/lib/python3.9/dist-packages (from keyring>=15.1->twine) (3.3.3)\n",
            "Requirement already satisfied: jeepney>=0.4.2 in /usr/local/lib/python3.9/dist-packages (from keyring>=15.1->twine) (0.8.0)\n",
            "Requirement already satisfied: jaraco.classes in /usr/local/lib/python3.9/dist-packages (from keyring>=15.1->twine) (3.2.3)\n",
            "Requirement already satisfied: bleach>=2.1.0 in /usr/local/lib/python3.9/dist-packages (from readme-renderer>=35.0->twine) (6.0.0)\n",
            "Requirement already satisfied: docutils>=0.13.1 in /usr/local/lib/python3.9/dist-packages (from readme-renderer>=35.0->twine) (0.16)\n",
            "Requirement already satisfied: Pygments>=2.5.1 in /usr/local/lib/python3.9/dist-packages (from readme-renderer>=35.0->twine) (2.14.0)\n",
            "Requirement already satisfied: charset-normalizer~=2.0.0 in /usr/local/lib/python3.9/dist-packages (from requests>=2.20->twine) (2.0.12)\n",
            "Requirement already satisfied: certifi>=2017.4.17 in /usr/local/lib/python3.9/dist-packages (from requests>=2.20->twine) (2022.12.7)\n",
            "Requirement already satisfied: idna<4,>=2.5 in /usr/local/lib/python3.9/dist-packages (from requests>=2.20->twine) (3.4)\n",
            "Requirement already satisfied: markdown-it-py<3.0.0,>=2.2.0 in /usr/local/lib/python3.9/dist-packages (from rich>=12.0.0->twine) (2.2.0)\n",
            "Requirement already satisfied: six>=1.9.0 in /usr/local/lib/python3.9/dist-packages (from bleach>=2.1.0->readme-renderer>=35.0->twine) (1.16.0)\n",
            "Requirement already satisfied: webencodings in /usr/local/lib/python3.9/dist-packages (from bleach>=2.1.0->readme-renderer>=35.0->twine) (0.5.1)\n",
            "Requirement already satisfied: mdurl~=0.1 in /usr/local/lib/python3.9/dist-packages (from markdown-it-py<3.0.0,>=2.2.0->rich>=12.0.0->twine) (0.1.2)\n",
            "Requirement already satisfied: cryptography>=2.0 in /usr/local/lib/python3.9/dist-packages (from SecretStorage>=3.2->keyring>=15.1->twine) (40.0.1)\n",
            "Requirement already satisfied: more-itertools in /usr/local/lib/python3.9/dist-packages (from jaraco.classes->keyring>=15.1->twine) (9.1.0)\n",
            "Requirement already satisfied: cffi>=1.12 in /usr/local/lib/python3.9/dist-packages (from cryptography>=2.0->SecretStorage>=3.2->keyring>=15.1->twine) (1.15.1)\n",
            "Requirement already satisfied: pycparser in /usr/local/lib/python3.9/dist-packages (from cffi>=1.12->cryptography>=2.0->SecretStorage>=3.2->keyring>=15.1->twine) (2.21)\n",
            "running bdist_wheel\n",
            "running build\n",
            "running build_py\n",
            "package init file 'mycalc/__init__.py' not found (or not a regular file)\n",
            "running egg_info\n",
            "writing dayy9984.egg-info/PKG-INFO\n",
            "writing dependency_links to dayy9984.egg-info/dependency_links.txt\n",
            "writing top-level names to dayy9984.egg-info/top_level.txt\n",
            "reading manifest file 'dayy9984.egg-info/SOURCES.txt'\n",
            "writing manifest file 'dayy9984.egg-info/SOURCES.txt'\n",
            "/usr/local/lib/python3.9/dist-packages/setuptools/command/install.py:34: SetuptoolsDeprecationWarning: setup.py install is deprecated. Use build and pip and other standards-based tools.\n",
            "  warnings.warn(\n",
            "installing to build/bdist.linux-x86_64/wheel\n",
            "running install\n",
            "running install_lib\n",
            "creating build/bdist.linux-x86_64/wheel\n",
            "creating build/bdist.linux-x86_64/wheel/mycalc\n",
            "copying build/lib/mycalc/calculator.py -> build/bdist.linux-x86_64/wheel/mycalc\n",
            "running install_egg_info\n",
            "Copying dayy9984.egg-info to build/bdist.linux-x86_64/wheel/dayy9984-0.0.1-py3.9.egg-info\n",
            "running install_scripts\n",
            "creating build/bdist.linux-x86_64/wheel/dayy9984-0.0.1.dist-info/WHEEL\n",
            "creating 'dist/dayy9984-0.0.1-py3-none-any.whl' and adding 'build/bdist.linux-x86_64/wheel' to it\n",
            "adding 'mycalc/calculator.py'\n",
            "adding 'dayy9984-0.0.1.dist-info/METADATA'\n",
            "adding 'dayy9984-0.0.1.dist-info/WHEEL'\n",
            "adding 'dayy9984-0.0.1.dist-info/top_level.txt'\n",
            "adding 'dayy9984-0.0.1.dist-info/RECORD'\n",
            "removing build/bdist.linux-x86_64/wheel\n",
            "Uploading distributions to https://upload.pypi.org/legacy/\n",
            "Uploading dayy9984-0.0.1-py3-none-any.whl\n",
            "\u001b[2K\u001b[35m100%\u001b[0m \u001b[90m━━━━━━━━━━━━━━━━━━━━━━━━━━━━━━━━━━━━━━━━\u001b[0m \u001b[32m4.2/4.2 kB\u001b[0m • \u001b[33m00:00\u001b[0m • \u001b[31m?\u001b[0m\n",
            "\u001b[?25h\n",
            "\u001b[32mView at:\u001b[0m\n",
            "https://pypi.org/project/dayy9984/0.0.1/\n"
          ]
        }
      ]
    },
    {
      "cell_type": "code",
      "source": [
        "!pip install dayy9984==0.0.1"
      ],
      "metadata": {
        "colab": {
          "base_uri": "https://localhost:8080/"
        },
        "id": "ds5ADzNHE-74",
        "outputId": "1182a662-fde6-4947-cbdb-15bd69026701"
      },
      "execution_count": 28,
      "outputs": [
        {
          "output_type": "stream",
          "name": "stdout",
          "text": [
            "Looking in indexes: https://pypi.org/simple, https://us-python.pkg.dev/colab-wheels/public/simple/\n",
            "Requirement already satisfied: dayy9984==0.0.1 in /usr/local/lib/python3.9/dist-packages (0.0.1)\n"
          ]
        }
      ]
    },
    {
      "cell_type": "code",
      "source": [
        "import mycalc\n",
        "from mycalc import calculator"
      ],
      "metadata": {
        "id": "0LaBndfMHhEP"
      },
      "execution_count": 29,
      "outputs": []
    },
    {
      "cell_type": "code",
      "source": [
        "a = 10; b = 20\n",
        "c = calculator.add(a,b)\n",
        "print(c)"
      ],
      "metadata": {
        "colab": {
          "base_uri": "https://localhost:8080/"
        },
        "id": "RDxs--wGHhbZ",
        "outputId": "f884753e-4b8c-4dc6-940a-5408f6200e85"
      },
      "execution_count": 30,
      "outputs": [
        {
          "output_type": "stream",
          "name": "stdout",
          "text": [
            "30\n"
          ]
        }
      ]
    }
  ]
}